{
 "cells": [
  {
   "cell_type": "markdown",
   "metadata": {},
   "source": [
    "##IPerl Notebook for the HackaMol::Molecule class in Support of: \n",
    "###HackaMol: an object-oriented Modern Perl library for molecular hacking on multiple scales\n",
    "Demian Riccardi, Jerry M. Parks, Alex Johs, and Jeremy C. Smith\n",
    "\n",
    "\n",
    "\n",
    "####Description\n",
    "HackaMol is an object-oriented toolkit written in Modern Perl using the Moose object system. HackaMol organizes atoms within molecules and seeks to provide chemically intuitive attributes and methods. This notebook will explore some of the features of the HackaMol::Molecule class in support of the article in review at the Journal of Chemical Information and Modeling. This notebook is available on GitHub and will evolve with the library. This notebook uses the iPerl kernel, written by Zaki Mughal, of the iPython notebook.\n",
    "\n",
    "###Documentation for the HackaMol::Molecule Class\n",
    "You can access the documentation for the HackaMol::Molecule class on [MetaCpan.org](https://metacpan.org/pod/HackaMol::Molecule). With HackaMol installed, you can load the documentation of the HackaMol::Molecule class using \"perldoc HackaMol::Molecule\" on the command line, see below."
   ]
  },
  {
   "cell_type": "markdown",
   "metadata": {},
   "source": [
    "###Example of using the HackaMol::Molecule class.\n",
    "\n",
    "In this notebook we will use a common Perl library (LWP::Simple) to download a pdb from pdb.org and then use the HackaMol::Molecule class to do some calculations and manipulations.  \n",
    "\n",
    "First load HackaMol and Modern::Perl"
   ]
  },
  {
   "cell_type": "code",
   "execution_count": 1,
   "metadata": {
    "collapsed": false
   },
   "outputs": [],
   "source": [
    "use Modern::Perl;\n",
    "use HackaMol;\n",
    "use Time::HiRes qw(time);"
   ]
  },
  {
   "cell_type": "markdown",
   "metadata": {},
   "source": [
    "####Let's work through some tasks."
   ]
  },
  {
   "cell_type": "markdown",
   "metadata": {},
   "source": [
    "####Tasks: \n",
    "1. Download pdb from pdb.org and store it locally.  (you will need internet connection for this)\n",
    "2. Load 2CBA.pdb into an instance of HackaMol::Molecule\n",
    "3. Calculate the center of mass\n",
    "4. Calculate the radius of gyration \n",
    "5. Translate to recenter the molecule\n",
    "6. recalculate COM and Rg\n",
    "7. time step 2 and steps 3-6"
   ]
  },
  {
   "cell_type": "code",
   "execution_count": 2,
   "metadata": {
    "collapsed": false
   },
   "outputs": [
    {
     "data": {
      "text/plain": [
       "{0.43747730122783, -0.134571154696172, -0.0440167363020837}\n",
       "7.29585389505559\n",
       "{-4.03288862360408e-16, -7.68520023858799e-16, 6.05649433072962e-17}\n",
       "7.29585389505559\n",
       "Time to load:      0.196s, Time to do some calculations:      0.011\n"
      ]
     },
     "execution_count": 2,
     "metadata": {},
     "output_type": "execute_result"
    },
    {
     "name": "stderr",
     "output_type": "stream",
     "text": [
      "1\n"
     ]
    }
   ],
   "source": [
    "use LWP::Simple;\n",
    "my $pdb = \"1L2Y.pdb\"; #NMR structure with several models\n",
    "my $fpdb = getstore(\"http://pdb.org/pdb/files/$pdb\",\"$pdb\");\n",
    "\n",
    "my $t1 = time;\n",
    "\n",
    "my $mol = HackaMol->new\n",
    "                  ->read_file_mol($pdb); # object methods chain from left to right\n",
    "\n",
    "my $t2 = time;\n",
    "\n",
    "say $mol->COM;\n",
    "say $mol->Rg;\n",
    "$mol->translate(-$mol->COM);\n",
    "say $mol->COM;\n",
    "say $mol->Rg;\n",
    "\n",
    "my $t3 = time;\n",
    "\n",
    "printf (\"Time to load: %10.3fs, Time to do some calculations: %10.3f\\n\", $t2-$t1, $t3-$t2);"
   ]
  },
  {
   "cell_type": "code",
   "execution_count": null,
   "metadata": {
    "collapsed": false
   },
   "outputs": [],
   "source": [
    "$mol->print_pdb;"
   ]
  },
  {
   "cell_type": "markdown",
   "metadata": {},
   "source": [
    "###Let's have some fun with the PDB\n",
    "####Strip out the backbone and measure dihedral angles"
   ]
  },
  {
   "cell_type": "code",
   "execution_count": null,
   "metadata": {
    "collapsed": false
   },
   "outputs": [],
   "source": [
    "use List::Util qw (min);\n",
    "\n",
    "my @N_CA_C = grep { $_->name eq 'N'  or \n",
    "                    $_->name eq 'CA' or \n",
    "                    $_->name eq 'C' \n",
    "             } $mol->all_atoms;\n",
    "\n",
    "my @dihedrals = HackaMol->new\n",
    "                        ->build_dihedrals(@N_CA_C);\n",
    "\n",
    "my $maxt = min($mol->tmax,11); # we can fit up to 11 columns of dihedrals in the print out below\n",
    "\n",
    "foreach my $dihe (@dihedrals) {\n",
    "    printf( \"%-22s \", $dihe->name );\n",
    "    foreach my $t (0 .. $maxt){\n",
    "      $dihe->gt($t);\n",
    "      printf( \"%7.2f \", $dihe->dihe_deg );\n",
    "    }\n",
    "    print \"\\n\";\n",
    "}\n"
   ]
  },
  {
   "cell_type": "markdown",
   "metadata": {},
   "source": [
    "### Print out backbone xyz to screen"
   ]
  },
  {
   "cell_type": "code",
   "execution_count": null,
   "metadata": {
    "collapsed": false
   },
   "outputs": [],
   "source": [
    "HackaMol::Molecule->new (\n",
    "                        atoms=>[@N_CA_C]\n",
    "                    )->print_xyz;"
   ]
  }
 ],
 "metadata": {
  "kernelspec": {
   "display_name": "Python 2",
   "language": "python",
   "name": "python2"
  },
  "language": "Perl",
  "language_info": {
   "name": "perl",
   "version": "5...2.0...1"
  }
 },
 "nbformat": 4,
 "nbformat_minor": 0
}
