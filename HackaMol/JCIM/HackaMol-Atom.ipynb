{
 "metadata": {
  "language": "Perl",
  "name": "",
  "signature": "sha256:0d5414437dec4bcd5b8b5710877448893a692aa4190885e21d3eb6cf4b8e62b1"
 },
 "nbformat": 3,
 "nbformat_minor": 0,
 "worksheets": [
  {
   "cells": [
    {
     "cell_type": "markdown",
     "metadata": {},
     "source": [
      "##IPerl Notebook for the HackaMol::Atom class in Support of: \n",
      "###HackaMol: an object-oriented Modern Perl library for molecular hacking on multiple scales\n",
      "Demian Riccardi, Jerry M. Parks, Alex Johs, and Jeremy C. Smith\n",
      "\n",
      "\n",
      "\n",
      "####Description\n",
      "HackaMol is an object-oriented toolkit written in Modern Perl using the Moose object system. HackaMol organizes atoms within molecules and seeks to provide chemically intuitive attributes and methods. This notebook will explore some of the features of the HackaMol::Atom class and the Moose object system in support of the article in review at the Journal of Chemical Information and Modeling. This notebook is available on GitHub and will evolve with the library. This notebook uses the iPerl kernel, written by Zaki Mughal, of the iPython notebook.\n",
      "\n",
      "###Basic use: HackaMol::Atom attributes\n",
      "The HackaMol library can be installed from the Central Perl Archive Network. The library is loaded into a script as follows:"
     ]
    },
    {
     "cell_type": "code",
     "collapsed": true,
     "input": [
      "use Modern::Perl; \n",
      "use HackaMol;\n",
      "use Time::HiRes qw(time);"
     ],
     "language": "python",
     "metadata": {},
     "outputs": [],
     "prompt_number": 1
    },
    {
     "cell_type": "markdown",
     "metadata": {},
     "source": [
      "The first line loads the Modern::Perl module that loads some modern features, and the second line loads the HackaMol library. Loading the HackaMol module loads the several classes, including the HackaMol::Atom class that will be used here.\n",
      "\n",
      "Let's dive in and create a mercury atom and print the contents of the atom object:"
     ]
    },
    {
     "cell_type": "code",
     "collapsed": false,
     "input": [
      "my $atom = HackaMol::Atom->new(Z=>80);\n",
      "$atom->dump;"
     ],
     "language": "python",
     "metadata": {},
     "outputs": [
      {
       "output_type": "stream",
       "stream": "stderr",
       "text": [
        "$VAR1 = bless( {\n",
        "                 'Z' => 80,\n",
        "                 't' => 0,\n",
        "                 'bond_count' => 0\n",
        "               }, 'HackaMol::Atom' );\n",
        "\n"
       ]
      }
     ],
     "prompt_number": 2
    },
    {
     "cell_type": "markdown",
     "metadata": {},
     "source": [
      "The contents of a Perl datastructure (blessed into the HackaMol::Atom class, as described below) are displayed using the dump method provided by Moose.  In Perl object-oriented programming, classes are packages, and objects are typically associative arrays (hashes) linked to a given package using the bless function.  The inherent flexibility of this approach increases the overhead needed to create and maintain complex classes. The Moose framework constrains that flexibility to simplify object-oriented programming in Perl. Some of the features of Moose will be highlighted below. \n",
      "    \n",
      "At this stage, the mercury atom contains other 'lazy' attributes (such as symbol, mass, covalent radius) that exist but have not been explicitly set.  For example, let's print the symbol and then dump the structure again: "
     ]
    },
    {
     "cell_type": "code",
     "collapsed": false,
     "input": [
      "say \"Symbol: \",$atom->symbol;\n",
      "$atom->dump;"
     ],
     "language": "python",
     "metadata": {},
     "outputs": [
      {
       "metadata": {},
       "output_type": "pyout",
       "prompt_number": 3,
       "text": [
        "Symbol: Hg\n"
       ]
      },
      {
       "output_type": "stream",
       "stream": "stderr",
       "text": [
        "$VAR1 = bless( {\n",
        "                 'symbol' => 'Hg',\n",
        "                 't' => 0,\n",
        "                 'bond_count' => 0,\n",
        "                 'Z' => 80\n",
        "               }, 'HackaMol::Atom' );\n",
        "\n"
       ]
      }
     ],
     "prompt_number": 3
    },
    {
     "cell_type": "markdown",
     "metadata": {},
     "source": [
      "You'll notice that the difference between Out[2] and Out[3] is that the mercury atom now has both the `Z` and `symbol` attributes set. This is an example of Lazy attributes, an efficient feature of Moose that allows class attributes to be set within the object as they are accessed. Let's print out a few other attributes:"
     ]
    },
    {
     "cell_type": "code",
     "collapsed": false,
     "input": [
      "printf \"Attribute %15s : %7s\\n\", $_, $atom->$_ foreach qw(Z symbol mass vdw_radius covalent_radius);"
     ],
     "language": "python",
     "metadata": {},
     "outputs": [
      {
       "metadata": {},
       "output_type": "pyout",
       "prompt_number": 4,
       "text": [
        "Attribute               Z :      80\n",
        "Attribute          symbol :      Hg\n",
        "Attribute            mass : 200.592\n",
        "Attribute      vdw_radius :    1.55\n",
        "Attribute covalent_radius :    1.33\n"
       ]
      }
     ],
     "prompt_number": 4
    },
    {
     "cell_type": "code",
     "collapsed": false,
     "input": [
      "$atom->dump;"
     ],
     "language": "python",
     "metadata": {},
     "outputs": [
      {
       "output_type": "stream",
       "stream": "stderr",
       "text": [
        "$VAR1 = bless( {\n",
        "                 'symbol' => 'Hg',\n",
        "                 'covalent_radius' => '1.33',\n",
        "                 'bond_count' => 0,\n",
        "                 'vdw_radius' => '1.55',\n",
        "                 't' => 0,\n",
        "                 'mass' => '200.592',\n",
        "                 'Z' => 80\n",
        "               }, 'HackaMol::Atom' );\n",
        "\n"
       ]
      }
     ],
     "prompt_number": 5
    },
    {
     "cell_type": "markdown",
     "metadata": {},
     "source": [
      "In the above, we print using a foreach loop using the perl special variable $_, which will be used frequently in this notebook.  We could carry out the same process as follows using a more explicit foreach loop:"
     ]
    },
    {
     "cell_type": "code",
     "collapsed": false,
     "input": [
      "foreach my $attr (qw(Z symbol mass vdw_radius covalent_radius)) {\n",
      "    printf \"Attribute %15s : %7s\\n\", $attr, $atom->$attr\n",
      "}"
     ],
     "language": "python",
     "metadata": {},
     "outputs": [
      {
       "metadata": {},
       "output_type": "pyout",
       "prompt_number": 6,
       "text": [
        "Attribute               Z :      80\n",
        "Attribute          symbol :      Hg\n",
        "Attribute            mass : 200.592\n",
        "Attribute      vdw_radius :    1.55\n",
        "Attribute covalent_radius :    1.33\n"
       ]
      }
     ],
     "prompt_number": 6
    },
    {
     "cell_type": "markdown",
     "metadata": {},
     "source": [
      "####Basic use HackaMol::Atom Methods\n",
      "Alchemy: let's change mercury into gold"
     ]
    },
    {
     "cell_type": "code",
     "collapsed": false,
     "input": [
      "$atom->symbol('Au');\n",
      "$atom->dump;"
     ],
     "language": "python",
     "metadata": {},
     "outputs": [
      {
       "output_type": "stream",
       "stream": "stderr",
       "text": [
        "$VAR1 = bless( {\n",
        "                 'symbol' => 'Au',\n",
        "                 'covalent_radius' => '1.33',\n",
        "                 'bond_count' => 0,\n",
        "                 'vdw_radius' => '1.55',\n",
        "                 't' => 0,\n",
        "                 'mass' => '200.592',\n",
        "                 'Z' => 80\n",
        "               }, 'HackaMol::Atom' );\n",
        "\n"
       ]
      }
     ],
     "prompt_number": 7
    },
    {
     "cell_type": "markdown",
     "metadata": {},
     "source": [
      "HackaMol is very flexible.  The attributes can be reassigned, but this can lead to difficulties as observed above. The $atom has the symbol 'Au' and a Z of 80. Invoking either change_Z or change_symbol methods will clear out all atom attributes, returning them to the lazy defaults and set the is_dirty attribute to 1 (where 1 is a true value in Perl). "
     ]
    },
    {
     "cell_type": "code",
     "collapsed": false,
     "input": [
      "$atom->change_Z(79);\n",
      "$atom->dump;"
     ],
     "language": "python",
     "metadata": {},
     "outputs": [
      {
       "output_type": "stream",
       "stream": "stderr",
       "text": [
        "cleaning atom attributes for in place change. setting atom->is_dirty at reply input line 1.\n"
       ]
      },
      {
       "output_type": "stream",
       "stream": "stderr",
       "text": [
        "$VAR1 = bless( {\n",
        "                 't' => 0,\n",
        "                 'bond_count' => 0,\n",
        "                 'Z' => 79,\n",
        "                 'is_dirty' => 1\n",
        "               }, 'HackaMol::Atom' );\n",
        "\n"
       ]
      }
     ],
     "prompt_number": 8
    },
    {
     "cell_type": "markdown",
     "metadata": {},
     "source": [
      "The is_dirty attribute allows other classes that contain groups of atoms to be able to respond to such changes. For example, let's uses the Perl map function to create an array of mercury atoms, and then change three of them to gold:"
     ]
    },
    {
     "cell_type": "code",
     "collapsed": false,
     "input": [
      "my @atoms = map{HackaMol::Atom->new(Z=>80)} 0 .. 99; \n",
      "$atoms[$_]->change_Z(79) foreach (10,81,92);"
     ],
     "language": "python",
     "metadata": {},
     "outputs": [
      {
       "output_type": "stream",
       "stream": "stderr",
       "text": [
        "cleaning atom attributes for in place change. setting atom->is_dirty at reply input line 2.\n",
        "cleaning atom attributes for in place change. setting atom->is_dirty at reply input line 2.\n",
        "cleaning atom attributes for in place change. setting atom->is_dirty at reply input line 2.\n"
       ]
      }
     ],
     "prompt_number": 9
    },
    {
     "cell_type": "markdown",
     "metadata": {},
     "source": [
      "We can now filter the atoms using Perl grep function and the is_dirty attribute to create a list of the dirty atoms (@dirty_atoms):"
     ]
    },
    {
     "cell_type": "code",
     "collapsed": false,
     "input": [
      "my @dirty_atoms = grep{$_->is_dirty} @atoms;\n",
      "print $_->dump foreach @dirty_atoms;"
     ],
     "language": "python",
     "metadata": {},
     "outputs": [
      {
       "metadata": {},
       "output_type": "pyout",
       "prompt_number": 10,
       "text": [
        "$VAR1 = bless( {\n",
        "                 't' => 0,\n",
        "                 'bond_count' => 0,\n",
        "                 'Z' => 79,\n",
        "                 'is_dirty' => 1\n",
        "               }, 'HackaMol::Atom' );\n",
        "$VAR1 = bless( {\n",
        "                 'is_dirty' => 1,\n",
        "                 'Z' => 79,\n",
        "                 'bond_count' => 0,\n",
        "                 't' => 0\n",
        "               }, 'HackaMol::Atom' );\n",
        "$VAR1 = bless( {\n",
        "                 'is_dirty' => 1,\n",
        "                 'bond_count' => 0,\n",
        "                 't' => 0,\n",
        "                 'Z' => 79\n",
        "               }, 'HackaMol::Atom' );\n"
       ]
      }
     ],
     "prompt_number": 10
    },
    {
     "cell_type": "markdown",
     "metadata": {},
     "source": [
      "Thus, the flexibility of being able to switch atoms in place is not without overhead. The change_symbol and change_Z methods are useful for bootstrapping quantum chemical calculations where atom types may be switched for a given molecular configuration. The is_dirty flag allows methods a way to trigger rebuilding, but this isn't trivial. Changing the identity of an atom would cause difficulties for a system of atoms, bonds, angles, etc. with some set of atom specific parameters. This example was chosen to highlight the flexibility and associated challenges. "
     ]
    },
    {
     "cell_type": "markdown",
     "metadata": {},
     "source": [
      "###PhysVecMVRRole\n",
      "The physical vector role (PhysVecMVRRole) provides the core attributes and methods shared between Atom and Molecule classes. Consuming this role gives the Atom and Molecule classes the ability to store coordinates, forces, and charges, etc. In Moose, roles are defined as encapsulated behavior or states that can be shared between classes; roles provide a paradigm for code reuse and interface definition that reduces the need for subclassing. Roles are similar to interfaces in Java, mixins in Ruby, and traits in Smalltalk. The coords, charges, forces attributes are array references with array traits provided by Moose for interacting with the data structure. For example, let's create two hydrogen atoms, each with four sets of Cartesian coordinates:\n"
     ]
    },
    {
     "cell_type": "code",
     "collapsed": false,
     "input": [
      "use Math::Vector::Real;\n",
      "my $h1 = HackaMol::Atom->new(Z=>1, coords=>[ V(0,0,0) ], charges=>[0]);\n",
      "$h1->push_coords(V(1,1,1));\n",
      "$h1->push_coords(V(2,2,2),V(3,3,3));\n",
      "\n",
      "my $h2 = HackaMol::Atom->new(Z=>1, coords=>[ V(1,1,1), V(2,2,2), V(3,3,3), V(4,4,4) ], charges=>[0,0,0,0]);\n",
      "\n",
      "$h1->dump, $h2->dump;"
     ],
     "language": "python",
     "metadata": {},
     "outputs": [],
     "prompt_number": 11
    },
    {
     "cell_type": "markdown",
     "metadata": {},
     "source": [
      "In the cell above, the four coordinates are added to each hydrogen atom in two different ways. For \\$h1, the coordinates are added to the coords array using the push_coords method. The push_coords method was constructed using the Moose array traits mentioned above. For \\$h2, the four sets of coordinated were included when the object was created. \n",
      "\n",
      "The concept of 'time' (t) is important in HackaMol. PhysVecMVRRole provides the attribute t, which indexes the arrays used to store charges (charges), XYZ coordinates (coords), and forces (forces) for analysis. These attributes are array references with array traits provided by Moose for interacting with the data structure, let's calculate the distances between the hydrogen atoms:"
     ]
    },
    {
     "cell_type": "code",
     "collapsed": false,
     "input": [
      "foreach my $t (0 .. 3){\n",
      "    $h1->t($t); \n",
      "    $h2->t($t);\n",
      "    my $d12tt = $h1->distance($h2);\n",
      "    $h1->t(0);\n",
      "    my $d120t = $h1->distance($h2);\n",
      "    printf (\"\\nDistance($t,$t): %.6f Distance(0,$t): %.6f\",$d12tt,$d120t);\n",
      "}"
     ],
     "language": "python",
     "metadata": {},
     "outputs": [
      {
       "metadata": {},
       "output_type": "pyout",
       "prompt_number": 12,
       "text": [
        "\n",
        "Distance(0,0): 1.732051 Distance(0,0): 1.732051\n",
        "Distance(1,1): 1.732051 Distance(0,1): 3.464102\n",
        "Distance(2,2): 1.732051 Distance(0,2): 5.196152\n",
        "Distance(3,3): 1.732051 Distance(0,3): 6.928203"
       ]
      },
      {
       "output_type": "stream",
       "stream": "stderr",
       "text": [
        "comparing objects with different times at reply input line 6.\n",
        "comparing objects with different times at reply input line 6.\n",
        "comparing objects with different times at reply input line 6.\n"
       ]
      }
     ],
     "prompt_number": 12
    },
    {
     "cell_type": "markdown",
     "metadata": {},
     "source": [
      "The first distance is calculated with each atom at the same t, and the second distance is calculated relative to the first hydrogen being fixed at t=0. A warning is printed if the the atoms are compared with different t settings. In the following, we use Moose to introspect the HackaMol::Atom class to expose other attributes and methods that are available to the HackaMol::Atom class. "
     ]
    },
    {
     "cell_type": "markdown",
     "metadata": {},
     "source": [
      "###Timing and memory use\n",
      "In the following we time the construction of 100,000 atom objects with random coordinates. The time taken is around 1.4s and the memory used is around 65.6 MB. This notebook was generated on an I7 dual core (1.7 GHz) MacBook Air (OS X 10.10.1) with 8GB of memory. \n"
     ]
    },
    {
     "cell_type": "code",
     "collapsed": false,
     "input": [
      "use Devel::Size qw(size total_size);\n",
      "use Time::HiRes qw(time);\n",
      "\n",
      "my $t1 = time;\n",
      "my @atoms = map {HackaMol::Atom->new(Z=>6, coords=>[ V(rand,rand,rand) ] )} 0 .. 99999;\n",
      "my $t2 = time;\n",
      "printf (\"time %10.3f\\n\", $t2-$t1);\n",
      "\n",
      "my $size = total_size(\\@atoms);\n",
      "\n",
      "printf (\"time: %10.3f size: %10.1f MB\\n\", $t2-$t1, $size/(1000000));"
     ],
     "language": "python",
     "metadata": {},
     "outputs": [
      {
       "metadata": {},
       "output_type": "pyout",
       "prompt_number": 13,
       "text": [
        "time      1.441\n",
        "time:      1.441 size:       65.6 MB\n"
       ]
      },
      {
       "output_type": "stream",
       "stream": "stderr",
       "text": [
        "1\n"
       ]
      }
     ],
     "prompt_number": 13
    }
   ],
   "metadata": {}
  }
 ]
}