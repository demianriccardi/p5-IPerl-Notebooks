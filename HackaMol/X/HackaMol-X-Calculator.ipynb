{
 "metadata": {
  "language": "Perl",
  "name": "",
  "signature": "sha256:a79da28769ffbf5f3d25ac69927298a0fada7f7ff5d7388db6bd275f32af9ea4"
 },
 "nbformat": 3,
 "nbformat_minor": 0,
 "worksheets": [
  {
   "cells": [
    {
     "cell_type": "markdown",
     "metadata": {},
     "source": [
      "##IPerl Notebook for an example of the HackaMol::X::Calculator in Support of: \n",
      "###HackaMol: an object-oriented Modern Perl library for molecular hacking on multiple scales\n",
      "Demian Riccardi, Jerry M. Parks, Alex Johs, and Jeremy C. Smith\n",
      "\n",
      "\n",
      "####Description\n",
      "This notebook explores a template for HackaMol extensions. The HackaMol::X::CalculatorAtomGroupRole provides many attributes and methods that are shared by the HackaMol::AtomGroup, HackaMol::Bond, HackaMol::Angle, and HackaMol::Dihedral.  The HackaMol::Molecule class, which is discussed in another notebook, is a subclass of the HackaMol::AtomGroup class. This notebook uses the iPerl kernel, written by Zaki Mughal, of the iPython notebook."
     ]
    }
   ],
   "metadata": {}
  }
 ]
}