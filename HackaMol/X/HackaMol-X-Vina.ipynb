{
 "metadata": {
  "language": "Perl",
  "name": "",
  "signature": "sha256:f00730b7be3133fcf1e06bcf65386e5b09f8025b9b4e6d1810108e9c832126f7"
 },
 "nbformat": 3,
 "nbformat_minor": 0,
 "worksheets": [
  {
   "cells": [
    {
     "cell_type": "markdown",
     "metadata": {},
     "source": [
      "##IPerl Notebook for an example of the HackaMol::X::Vina class in support of: \n",
      "###HackaMol: an object-oriented Modern Perl library for molecular hacking on multiple scales\n",
      "Demian Riccardi, Jerry M. Parks, Alex Johs, and Jeremy C. Smith\n",
      "\n",
      "####Description\n",
      "This uses the HackaMol::X::Vina, which interfaces the Autodock-Vina program (link).  This notebook uses the iPerl kernel, written by Zaki Mughal, of the iPython notebook."
     ]
    },
    {
     "cell_type": "code",
     "collapsed": false,
     "input": [
      "use Modern::Perl;\n",
      "use HackaMol;\n",
      "use HackaMol::X::Vina;"
     ],
     "language": "python",
     "metadata": {},
     "outputs": [],
     "prompt_number": 2
    },
    {
     "cell_type": "markdown",
     "metadata": {},
     "source": [
      "####Download 3DK4, which has a bound glutathione disulfide"
     ]
    },
    {
     "cell_type": "code",
     "collapsed": false,
     "input": [
      "my $bldr = HackaMol->new;\n",
      "my $pdb = \"3dk4.pdb\";\n",
      "$bldr->getstore_pdbid($pdb);\n",
      "my $mol=$bldr->read_file_mol($pdb);"
     ],
     "language": "python",
     "metadata": {},
     "outputs": [
      {
       "output_type": "stream",
       "stream": "stderr",
       "text": [
        "3dk4.pdb exists, set self->overwrite(1) to overwrite at reply input line 3.\n",
        "you can load this file using something like HackaMol->new->read_file_mol at reply input line 3.\n"
       ]
      },
      {
       "output_type": "stream",
       "stream": "stderr",
       "text": [
        "HackaMol::Molecule=HASH(0x7f8480817e40)\n"
       ]
      }
     ],
     "prompt_number": 4
    },
    {
     "cell_type": "markdown",
     "metadata": {},
     "source": [
      "####Pull out the glutathione disulfide"
     ]
    },
    {
     "cell_type": "code",
     "collapsed": false,
     "input": [
      "my $gssg = HackaMol::Molecule->new(\n",
      "    atoms => [\n",
      "        grep { $_->resname eq 'GSH' } $mol->all_atoms,\n",
      "    ]\n",
      ");\n",
      "\n",
      "my $fh = $gssg->print_pdb('lig.pdb'); $fh->close;\n",
      "\n",
      "my $rec = HackaMol::Molecule->new(\n",
      "    atoms => [\n",
      "        grep { $_->record_name eq 'ATOM'} $mol->all_atoms,\n",
      "    ]\n",
      ");\n",
      "\n",
      "$fh = $rec->print_pdb('rec.pdb'); $fh->close;\n"
     ],
     "language": "python",
     "metadata": {},
     "outputs": [
      {
       "output_type": "stream",
       "stream": "stderr",
       "text": [
        "1\n"
       ]
      }
     ],
     "prompt_number": 9
    },
    {
     "cell_type": "markdown",
     "metadata": {},
     "source": [
      "####Current, HackaMol can only read pdbqt files.  It can not write them.  So let's use the commandline Open Babel tool (obabel)"
     ]
    },
    {
     "cell_type": "code",
     "collapsed": false,
     "input": [
      "`ls lig.pdb rec.pdb`"
     ],
     "language": "python",
     "metadata": {},
     "outputs": [
      {
       "output_type": "stream",
       "stream": "stderr",
       "text": [
        "lig.pdb\n",
        "rec.pdb\n",
        "\n"
       ]
      }
     ],
     "prompt_number": 11
    },
    {
     "cell_type": "code",
     "collapsed": false,
     "input": [
      "`obabel -ipdb rec.pdb -opdbqt -Orec.pdbqt`"
     ],
     "language": "python",
     "metadata": {},
     "outputs": [],
     "prompt_number": 13
    },
    {
     "cell_type": "code",
     "collapsed": false,
     "input": [
      "`obabel -ipdb lig.pdb -opdbqt -Olig.pdbqt`"
     ],
     "language": "python",
     "metadata": {},
     "outputs": [],
     "prompt_number": 14
    },
    {
     "cell_type": "code",
     "collapsed": false,
     "input": [
      "`cat rec.pdbqt`"
     ],
     "language": "python",
     "metadata": {},
     "outputs": [
      {
       "output_type": "stream",
       "stream": "stderr",
       "text": [
        "REMARK  Name = rec.pdb\n",
        "REMARK                            x       y       z     vdW  Elec       q    Type\n",
        "REMARK                         _______ _______ _______ _____ _____    ______ ____\n",
        "\n"
       ]
      }
     ],
     "prompt_number": 16
    },
    {
     "cell_type": "code",
     "collapsed": false,
     "input": [],
     "language": "python",
     "metadata": {},
     "outputs": []
    }
   ],
   "metadata": {}
  }
 ]
}