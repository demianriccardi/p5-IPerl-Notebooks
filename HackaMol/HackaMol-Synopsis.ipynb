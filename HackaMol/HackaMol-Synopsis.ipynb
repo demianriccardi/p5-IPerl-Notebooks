{
 "cells": [
  {
   "cell_type": "code",
   "execution_count": 1,
   "metadata": {
    "collapsed": true
   },
   "outputs": [],
   "source": [
    "use HackaMol;"
   ]
  },
  {
   "cell_type": "code",
   "execution_count": 3,
   "metadata": {
    "collapsed": false
   },
   "outputs": [
    {
     "data": {
      "text/plain": [
       "$VAR1 = bless( {\n",
       "                 'atoms' => [\n",
       "                              bless( {\n",
       "                                       'resid' => '21',\n",
       "                                       'Z' => 16,\n",
       "                                       'altloc' => '',\n",
       "                                       'symbol' => 'S',\n",
       "                                       'iatom' => 178,\n",
       "                                       'chain' => 'A',\n",
       "                                       'bond_count' => 0,\n",
       "                                       'covalent_radius' => '1.03',\n",
       "                                       't' => 0,\n",
       "                                       'charges' => [\n",
       "                                                      0\n",
       "                                                    ],\n",
       "                                       'resname' => 'CYS',\n",
       "                                       'is_dirty' => 0,\n",
       "                                       'name' => 'SG',\n",
       "                                       'occ' => '1',\n",
       "                                       'serial' => '179',\n",
       "                                       'record_name' => 'ATOM',\n",
       "                                       'bfact' => '78.69',\n",
       "                                       'coords' => [\n",
       "                                                     bless( [\n",
       "                                                              '40.525',\n",
       "                                                              '20.144',\n",
       "                                                              '5.516'\n",
       "                                                            ], 'Math::Vector::Real' )\n",
       "                                                   ],\n",
       "                                       'segid' => ''\n",
       "                                     }, 'HackaMol::Atom' ),\n",
       "                              bless( {\n",
       "                                       'altloc' => '',\n",
       "                                       'symbol' => 'S',\n",
       "                                       'Z' => 16,\n",
       "                                       'resid' => '142',\n",
       "                                       'bond_count' => 0,\n",
       "                                       'covalent_radius' => '1.03',\n",
       "                                       't' => 0,\n",
       "                                       'chain' => 'A',\n",
       "                                       'iatom' => 1121,\n",
       "                                       'record_name' => 'ATOM',\n",
       "                                       'occ' => '1',\n",
       "                                       'name' => 'SG',\n",
       "                                       'serial' => '1122',\n",
       "                                       'is_dirty' => 0,\n",
       "                                       'charges' => [\n",
       "                                                      0\n",
       "                                                    ],\n",
       "                                       'resname' => 'CYS',\n",
       "                                       'segid' => '',\n",
       "                                       'coords' => [\n",
       "                                                     bless( [\n",
       "                                                              '39.071',\n",
       "                                                              '19.368',\n",
       "                                                              '4.185'\n",
       "                                                            ], 'Math::Vector::Real' )\n",
       "                                                   ],\n",
       "                                       'bfact' => '70.2'\n",
       "                                     }, 'HackaMol::Atom' )\n",
       "                            ],\n",
       "                 'name' => 'S-S_1'\n",
       "               }, 'HackaMol::Bond' );\n"
      ]
     },
     "execution_count": 3,
     "metadata": {},
     "output_type": "execute_result"
    }
   ],
   "source": [
    "my $pdb = \"1KNI.pdb\";\n",
    "my $bldr = HackaMol->new( name => 'builder');\n",
    "$bldr->getstore_pdbid($pdb);\n",
    "\n",
    "my @atoms  = $hack->read_file_atoms(\"1KNI.pdb\");\n",
    "my @disulfide_bonds = $hack->find_disulfide_bonds(@atoms);\n",
    "\n",
    "print $_->dump foreach @disulfide_bonds;"
   ]
  },
  {
   "cell_type": "code",
   "execution_count": null,
   "metadata": {
    "collapsed": true
   },
   "outputs": [],
   "source": []
  }
 ],
 "metadata": {
  "kernelspec": {
   "display_name": "Python 2",
   "language": "python",
   "name": "python2"
  },
  "language": "Perl",
  "language_info": {
   "name": "perl",
   "version": "5...2.0...1"
  }
 },
 "nbformat": 4,
 "nbformat_minor": 0
}
